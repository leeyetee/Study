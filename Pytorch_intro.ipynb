{
 "cells": [
  {
   "cell_type": "code",
   "execution_count": 1,
   "metadata": {},
   "outputs": [],
   "source": [
    "from __future__ import print_function\n",
    "import torch"
   ]
  },
  {
   "cell_type": "raw",
   "metadata": {},
   "source": [
    "# 创建一个空张量"
   ]
  },
  {
   "cell_type": "code",
   "execution_count": 2,
   "metadata": {},
   "outputs": [
    {
     "name": "stdout",
     "output_type": "stream",
     "text": [
      "tensor([[9.6429e-39, 8.4490e-39, 9.6429e-39],\n",
      "        [9.2755e-39, 1.0286e-38, 9.0919e-39],\n",
      "        [8.9082e-39, 9.2755e-39, 8.4490e-39],\n",
      "        [1.0194e-38, 9.0919e-39, 8.4490e-39],\n",
      "        [1.0286e-38, 9.6429e-39, 8.4490e-39]])\n"
     ]
    }
   ],
   "source": [
    "x1 = torch.empty(5, 3)\n",
    "print(x1)"
   ]
  },
  {
   "cell_type": "code",
   "execution_count": 3,
   "metadata": {},
   "outputs": [
    {
     "name": "stdout",
     "output_type": "stream",
     "text": [
      "tensor([[0.6183, 0.5105, 0.1296],\n",
      "        [0.3015, 0.5792, 0.5460],\n",
      "        [0.4745, 0.8835, 0.3613],\n",
      "        [0.4690, 0.5466, 0.9138],\n",
      "        [0.1711, 0.2004, 0.0244]])\n"
     ]
    }
   ],
   "source": [
    "x2 = torch.rand(5, 3)\n",
    "print(x2)"
   ]
  },
  {
   "cell_type": "code",
   "execution_count": 4,
   "metadata": {},
   "outputs": [
    {
     "name": "stdout",
     "output_type": "stream",
     "text": [
      "tensor([[0.6183, 0.5105, 0.1296],\n",
      "        [0.3015, 0.5792, 0.5460],\n",
      "        [0.4745, 0.8835, 0.3613],\n",
      "        [0.4690, 0.5466, 0.9138],\n",
      "        [0.1711, 0.2004, 0.0244]])\n"
     ]
    }
   ],
   "source": [
    "print(x1+x2)"
   ]
  },
  {
   "cell_type": "code",
   "execution_count": null,
   "metadata": {},
   "outputs": [],
   "source": []
  }
 ],
 "metadata": {
  "kernelspec": {
   "display_name": "Pytorch for Deeplearning",
   "language": "python",
   "name": "pytorch"
  },
  "language_info": {
   "codemirror_mode": {
    "name": "ipython",
    "version": 3
   },
   "file_extension": ".py",
   "mimetype": "text/x-python",
   "name": "python",
   "nbconvert_exporter": "python",
   "pygments_lexer": "ipython3",
   "version": "3.7.3"
  }
 },
 "nbformat": 4,
 "nbformat_minor": 2
}
